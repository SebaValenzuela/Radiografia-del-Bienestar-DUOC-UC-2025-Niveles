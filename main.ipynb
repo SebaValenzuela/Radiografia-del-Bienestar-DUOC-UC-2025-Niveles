{
 "cells": [
  {
   "cell_type": "code",
   "execution_count": 1,
   "id": "4700422b",
   "metadata": {},
   "outputs": [],
   "source": [
    "from api.main import get_full_survey\n",
    "import pandas as pd\n",
    "from reports.generator import generar_global_report\n",
    "\n",
    "# df_encuesta = get_full_survey()\n",
    "df_encuesta = pd.read_excel(\"data/bdd-bruta.xlsx\")\n",
    "df_encuesta_2022 = pd.read_excel(\"data/respuestas-brutas-2022.xlsx\")\n",
    "\n",
    "columnas_interes = [\"PRAB01[PRA01]\", \"PRAB01[PRA02]\", \"PRAB01[PRA03]\", \"EMAIL\"]\n",
    "columnas_interes_2022 = [\"ExpEmocional_01\", \"ExpEmocional_02\", \"ExpEmocional_03\", \"Genero\", \"EMAIL\"]\n",
    "\n",
    "df_wordclouds = df_encuesta[columnas_interes].copy()\n",
    "df_wordclouds[\"EMAIL\"] = df_wordclouds[\"EMAIL\"].str.split(\"@\").str[0]\n",
    "\n",
    "df_wordclouds_2022 = df_encuesta_2022[columnas_interes_2022].copy()\n",
    "\n",
    "df_universo = pd.read_excel(\"data/universo-radiografia-final.xlsx\")\n",
    "columnas_interes_universo = [\"GENERO\", \"EMAIL\", \"JORNADA\", \"TIPO_ALUMNO\", \"SEDE\", \"ESCUELA\"]\n",
    "df_universo = df_universo[columnas_interes_universo].copy()\n",
    "\n",
    "df_merged = pd.merge(df_wordclouds, df_universo, on=\"EMAIL\", how=\"inner\", suffixes=(\"_encuesta\", \"_universo\"))\n",
    "\n",
    "generar_global_report(df_merged, df_wordclouds_2022)"
   ]
  }
 ],
 "metadata": {
  "kernelspec": {
   "display_name": "Python 3",
   "language": "python",
   "name": "python3"
  },
  "language_info": {
   "codemirror_mode": {
    "name": "ipython",
    "version": 3
   },
   "file_extension": ".py",
   "mimetype": "text/x-python",
   "name": "python",
   "nbconvert_exporter": "python",
   "pygments_lexer": "ipython3",
   "version": "3.8.10"
  }
 },
 "nbformat": 4,
 "nbformat_minor": 5
}
